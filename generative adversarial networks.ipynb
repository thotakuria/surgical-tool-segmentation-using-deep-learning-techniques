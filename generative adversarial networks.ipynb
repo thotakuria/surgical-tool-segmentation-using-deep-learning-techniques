{
  "cells": [
    {
      "cell_type": "markdown",
      "metadata": {
        "id": "view-in-github",
        "colab_type": "text"
      },
      "source": [
        "<a href=\"https://colab.research.google.com/github/thotakuria/surgical-tool-segmentation-using-deep-learning-techniques/blob/main/gan.ipynb\" target=\"_parent\"><img src=\"https://colab.research.google.com/assets/colab-badge.svg\" alt=\"Open In Colab\"/></a>"
      ]
    },
    {
      "cell_type": "code",
      "execution_count": null,
      "metadata": {
        "id": "J2jx7u_dmVww"
      },
      "outputs": [],
      "source": [
        "!pip install pytorch-lightning"
      ]
    },
    {
      "cell_type": "code",
      "execution_count": null,
      "metadata": {
        "id": "wpwJMWV4kAC_"
      },
      "outputs": [],
      "source": [
        "from google.colab import drive\n",
        "drive.mount('/content/drive')"
      ]
    },
    {
      "cell_type": "code",
      "execution_count": null,
      "metadata": {
        "id": "Jd38TxVimpou"
      },
      "outputs": [],
      "source": [
        "import os\n",
        "import torch\n",
        "import torchvision\n",
        "import torch.nn as nn\n",
        "import torch.optim as optim\n",
        "import torch.nn.functional as F\n",
        "import torchvision.datasets as datasets\n",
        "import torchvision.transforms as transforms\n",
        "from torch.utils.data import DataLoader, random_split\n",
        "\n",
        "import matplotlib.pyplot as plt\n",
        "\n",
        "import pytorch_lightning as pl\n",
        "\n",
        "\n",
        "random_seed = 6\n",
        "torch.manual_seed(random_seed)\n",
        "\n",
        "BATCH_SIZE=32\n",
        "AVAIL_GPUS = min(1, torch.cuda.device_count())\n",
        "NUM_WORKERS=int(os.cpu_count() / 2)"
      ]
    },
    {
      "cell_type": "code",
      "execution_count": 6,
      "metadata": {
        "id": "TpZhsVFrprSa"
      },
      "outputs": [],
      "source": [
        "import torch\n",
        "import numpy as np\n",
        "import torch.nn as nn\n",
        "import torchvision.transforms as transforms\n",
        "import torchvision.datasets\n",
        "\n",
        "class MyNormalise:\n",
        "\n",
        "  def __call__(self, x):\n",
        "    return x*2.0 - 1\n",
        "data_transforms = transforms.Compose([transforms.Resize([28,28]) ,transforms.ToTensor(), MyNormalise()])\n",
        "image_datasets = torchvision.datasets.ImageFolder(root= \"drive/MyDrive/dataset/\",transform=data_transforms)\n",
        "dataloaders = torch.utils.data.DataLoader(image_datasets, batch_size=32, shuffle=True, num_workers=2)"
      ]
    },
    {
      "cell_type": "code",
      "execution_count": 7,
      "metadata": {
        "id": "Y4Gu0X35pw7S"
      },
      "outputs": [],
      "source": [
        "\n",
        "class Discriminator(nn.Module):\n",
        "    def __init__(self):\n",
        "        super().__init__()\n",
        "    \n",
        "        self.conv1 = nn.Conv2d(3, 8, kernel_size=3)\n",
        "        self.conv2 = nn.Conv2d(8, 16, kernel_size=2)\n",
        "        self.conv3 = nn.Conv2d(16, 64, kernel_size=2)\n",
        "        self.conv2_drop = nn.Dropout2d()\n",
        "        self.fc1 = nn.Linear(1600, 128)\n",
        "        self.fc2 = nn.Linear(128, 1)\n",
        "  \n",
        "    def forward(self, x):\n",
        "        x = F.relu(F.max_pool2d(self.conv1(x), 2))\n",
        "        x = F.relu(F.max_pool2d(self.conv2_drop(self.conv2(x)), 2))\n",
        "        x = F.relu(F.max_pool2d(self.conv3(x), 1))\n",
        "\n",
        "        x = x.view(-1, 1600)\n",
        "        x = F.relu(self.fc1(x))\n",
        "        x = F.dropout(x, training=self.training)\n",
        "        x = self.fc2(x)\n",
        "        return torch.sigmoid(x)"
      ]
    },
    {
      "cell_type": "code",
      "execution_count": 8,
      "metadata": {
        "id": "vb005Wfcp2Bf"
      },
      "outputs": [],
      "source": [
        "\n",
        "class Generator(nn.Module):\n",
        "    def __init__(self, latent_dim):\n",
        "        super().__init__()\n",
        "        self.lin1 = nn.Linear(latent_dim, 7*7*64) \n",
        "        self.ct1 = nn.ConvTranspose2d(64, 32, 4, stride=2)\n",
        "        self.ct2 = nn.ConvTranspose2d(32, 16, 4, stride=2) \n",
        "        self.conv = nn.Conv2d(16, 3, kernel_size=7) \n",
        "        self.bn = nn.BatchNorm2d(16)\n",
        "    \n",
        "\n",
        "    def forward(self, x):\n",
        "    \n",
        "        x = self.lin1(x)\n",
        "        x = F.relu(x)\n",
        "        x = x.view(-1, 64, 7, 7)\n",
        "\n",
        "        x = self.ct1(x)\n",
        "        x = F.relu(x)\n",
        "\n",
        "        x = self.ct2(x)\n",
        "        x = F.relu(x)\n",
        "        x = self.bn(x)\n",
        "\n",
        "        x = self.conv(x)\n",
        "        return torch.tanh(x)"
      ]
    },
    {
      "cell_type": "code",
      "execution_count": 10,
      "metadata": {
        "id": "wMIe9PpFp6AV"
      },
      "outputs": [],
      "source": [
        "import matplotlib.pyplot as plt\n",
        "\n",
        "class GAN(pl.LightningModule):\n",
        "    def __init__(self, latent_dim=10, lr=0.002):\n",
        "        super().__init__()\n",
        "        self.save_hyperparameters()\n",
        "        self.generator = Generator(latent_dim=self.hparams.latent_dim)\n",
        "        self.discriminator = Discriminator()\n",
        "\n",
        "       #random noise\n",
        "        m = torch.zeros(1, self.hparams.latent_dim)\n",
        "        std = torch.ones(1, self.hparams.latent_dim)\n",
        "        self.validation_z = torch.normal(m, std)\n",
        "    def forward(self, z):\n",
        "        return self.generator(z)\n",
        "    def adversarial_loss(self, y_hat, y):\n",
        "        return F.binary_cross_entropy(y_hat, y)\n",
        "    def training_step(self, batch, batch_idx, optimizer_idx):\n",
        "        real_imgs, _ = batch\n",
        "        m = torch.zeros(real_imgs.shape[0], self.hparams.latent_dim)\n",
        "        std = torch.ones(real_imgs.shape[0], self.hparams.latent_dim)\n",
        "        z = torch.normal(m, std)\n",
        "        z = z.type_as(real_imgs)\n",
        "        if optimizer_idx != 2:\n",
        "            fake_imgs = self(z)\n",
        "            y_hat = self.discriminator(fake_imgs)\n",
        "\n",
        "            y = torch.ones(real_imgs.size(0), 1)\n",
        "            y = y - 0.2\n",
        "            y = y.type_as(real_imgs)\n",
        "\n",
        "            g_loss = self.adversarial_loss(y_hat, y)\n",
        "\n",
        "            log_dict = {\"g_loss\": g_loss}\n",
        "            return{\"loss\": g_loss, \"progress_bar\": log_dict, \"log\": log_dict}\n",
        "        else:\n",
        "            y_hat_real = self.discriminator(real_imgs)\n",
        "            y_real = torch.ones(real_imgs.size(0), 1)\n",
        "            y_real = y_real.type_as(real_imgs)\n",
        "    \n",
        "            real_loss = self.adversarial_loss(y_hat_real, y_real)\n",
        "            y_hat_fake = self.discriminator(self(z).detach())\n",
        "\n",
        "            y_fake = torch.zeros(real_imgs.size(0), 1)\n",
        "            y_fake = y_fake.type_as(real_imgs)\n",
        "\n",
        "            fake_loss = self.adversarial_loss(y_hat_fake, y_fake)\n",
        "\n",
        "            d_loss = (real_loss + fake_loss) / 2\n",
        "            log_dict = {\"d_loss\": d_loss}\n",
        "            return {\"loss\": d_loss, \"progress_bar\": log_dict, \"log\": log_dict}\n",
        "\n",
        "    def configure_optimizers(self):\n",
        "        lr = self.hparams.lr\n",
        "        opt_g = torch.optim.Adam(self.generator.parameters(), lr=0.00002)\n",
        "        opt_d = torch.optim.Adam(self.discriminator.parameters(), lr=0.0002)\n",
        "        return [opt_g, opt_g, opt_d], []\n",
        "\n",
        "    def plot_imgs(self):\n",
        "        z = self.validation_z.type_as(self.generator.lin1.weight)\n",
        "        sample_imgs = self(z).cpu()\n",
        "\n",
        "        print('epoch', self.current_epoch)\n",
        "        fig = plt.figure()\n",
        "        for i in range(sample_imgs.size(0)):\n",
        "            plt.subplot(3, 4, i+1)\n",
        "            plt.tight_layout()\n",
        "            sample_img = sample_imgs.detach()[0, :, :, :]\n",
        "            sample_img = np.transpose(sample_img, (1, 2, 0))\n",
        "            sample_img = sample_img/2.0 + 0.5\n",
        "            plt.imshow(sample_img)\n",
        "            plt.title(\"Generated Data\")\n",
        "            plt.xticks([])\n",
        "            plt.yticks([])\n",
        "            plt.axis('off')\n",
        "        plt.show()\n",
        "\n",
        "    def on_train_epoch_end(self):\n",
        "        return\n"
      ]
    },
    {
      "cell_type": "code",
      "source": [
        " #random noise\n",
        "    m = torch.zeros(1, self.hparams.latent_dim)\n",
        "    std = torch.ones(1, self.hparams.latent_dim)\n",
        "    z = torch.normal(m, std).type_as(self.generator.lin1.weight)\n",
        "    sample_imgs = self(z).cpu()\n",
        "    print('epoch', self.current_epoch)\n",
        "    sample_img = sample_imgs.detach()[0, :, :, :]\n",
        "    sample_img = np.transpose(sample_img, (1, 2, 0))\n",
        "    sample_img = sample_img/2.0 + 0.5\n",
        "    plt.imshow(sample_img)\n",
        "    plt.xticks([])\n",
        "    plt.yticks([])\n",
        "    plt.axis('off')"
      ],
      "metadata": {
        "id": "tklP--LZZQYW"
      },
      "execution_count": null,
      "outputs": []
    },
    {
      "cell_type": "code",
      "execution_count": null,
      "metadata": {
        "id": "eIhhxUhHs-Rn"
      },
      "outputs": [],
      "source": [
        "import matplotlib.pyplot as plt\n",
        "%matplotlib inline\n",
        "def imshow(img):\n",
        "    img = img / 2 + 0.5\n",
        "    plt.imshow(np.transpose(img, (1, 2, 0)))\n",
        "dataiter = iter(dataloaders)\n",
        "images, labels = dataiter.next()\n",
        "images = images.numpy() \n",
        "fig = plt.figure(figsize=(25, 4))\n",
        "for idx in np.arange(20):\n",
        "    ax = fig.add_subplot(2, 20/2, idx+1, xticks=[], yticks=[])\n",
        "    imshow(images[idx])"
      ]
    },
    {
      "cell_type": "code",
      "execution_count": null,
      "metadata": {
        "id": "UQQ-SqIlZe97"
      },
      "outputs": [],
      "source": [
        "model.plot_imgs()"
      ]
    },
    {
      "cell_type": "code",
      "execution_count": null,
      "metadata": {
        "id": "2QDXA0-jdcav"
      },
      "outputs": [],
      "source": [
        "dm = dataloaders\n",
        "model = GAN()\n",
        "trainer = pl.Trainer(max_epochs=7000, log_every_n_steps=2, gradient_clip_val = 5.0, )\n",
        "trainer.fit(model, dm)"
      ]
    },
    {
      "cell_type": "code",
      "execution_count": null,
      "metadata": {
        "id": "MBPFZT3BA6vE"
      },
      "outputs": [],
      "source": [
        "trainer = pl.Trainer(max_epochs=10, log_every_n_steps=2, gradient_clip_val = 5.0, )\n",
        "trainer.fit(model, dm)"
      ]
    }
  ],
  "metadata": {
    "accelerator": "TPU",
    "colab": {
      "provenance": [],
      "include_colab_link": true
    },
    "gpuClass": "standard",
    "kernelspec": {
      "display_name": "Python 3",
      "name": "python3"
    },
    "language_info": {
      "name": "python"
    }
  },
  "nbformat": 4,
  "nbformat_minor": 0
}
